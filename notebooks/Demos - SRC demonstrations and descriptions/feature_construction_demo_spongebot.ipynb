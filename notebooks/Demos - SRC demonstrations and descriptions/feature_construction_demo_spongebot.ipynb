{
 "cells": [
  {
   "cell_type": "markdown",
   "metadata": {},
   "source": [
    "# Constructing the Default Features\n",
    "The functions used in the features module will be tested and demonstarted on the raw ADAEUR data to construct the default featurs of the data set."
   ]
  },
  {
   "cell_type": "code",
   "execution_count": 1,
   "metadata": {},
   "outputs": [],
   "source": [
    "import numpy as np\n",
    "import pandas as pd\n",
    "import matplotlib.pyplot as plt\n",
    "import os\n",
    "from src.data import build_dataset as bd\n",
    "from src.features import mass_features as mf\n",
    "from src.features import build_features as bf"
   ]
  },
  {
   "cell_type": "code",
   "execution_count": 2,
   "metadata": {},
   "outputs": [],
   "source": [
    "data = pd.read_pickle(r'\\crypto_forecast\\data\\raw\\ADAEUR_raw_2019_03.pkl')\n",
    "hour_data = bd.sampleBars(data, method='time bars',interval='H')"
   ]
  },
  {
   "cell_type": "code",
   "execution_count": 3,
   "metadata": {},
   "outputs": [
    {
     "data": {
      "image/png": "[encoded data removed]",
      "text/plain": [
       "<matplotlib.figure.Figure at 0x2a0a85ff4e0>"
      ]
     },
     "metadata": {},
     "output_type": "display_data"
    }
   ],
   "source": [
    "plt.plot(hour_data.close[10:])\n",
    "plt.title('Closing price of ADAEUR minute bars');"
   ]
  },
  {
   "cell_type": "markdown",
   "metadata": {},
   "source": [
    "Before constructing the features the first step is to split the data (which should have been done before sampling if not usng time bars) into two datasets. One before and one after the break in the data as can been seen in the above plot. If this is not done then the computations of the rolling everages and returns will be wrong. An alternative method may be to forward/back fill or fill the data by other means. The first 100 data bars will also be ingored as they do not contain useful information."
   ]
  },
  {
   "cell_type": "code",
   "execution_count": 4,
   "metadata": {},
   "outputs": [],
   "source": [
    "hour_data = hour_data[10:]\n",
    "hour_data1 = hour_data[:'2018-11-11']\n",
    "hour_data1 = hour_data1.dropna()\n",
    "hour_data2 = hour_data['2018-11-11':]\n",
    "hour_data2 = hour_data2.dropna()"
   ]
  },
  {
   "cell_type": "markdown",
   "metadata": {},
   "source": [
    "The getMassFeatures() functions creates a bunch of derives features from the original bar data and returns a full feature df. There are 286 features in total."
   ]
  },
  {
   "cell_type": "code",
   "execution_count": 5,
   "metadata": {},
   "outputs": [],
   "source": [
    "hour_data11 = mf.getMassFeatures(hour_data1)\n",
    "hour_data22 = mf.getMassFeatures(hour_data2)"
   ]
  },
  {
   "cell_type": "code",
   "execution_count": 7,
   "metadata": {},
   "outputs": [],
   "source": [
    "hour_data11.to_pickle('ADAEUR_hour_data1.pkl')\n",
    "hour_data22.to_pickle('ADAEUR_hour_data2.pkl')"
   ]
  },
  {
   "cell_type": "markdown",
   "metadata": {},
   "source": [
    "# Making the Features Stationary\n",
    "The functions from the build_features module can be used to fractionally differeniate any non-stationary features  to make them more stationary.\n",
    "\n",
    "First we test each feature using the Augmented Dicky-Fuller test to test for stationarity using the significance at 0.001 given the amount of (almost 300) features. The features deemed non-stationary will then be fractionally differentiated using different values of d. The new diff-feature will then be tested using the ADF test again for each d and the lowest d that has p-value < 0.001 will be used."
   ]
  },
  {
   "cell_type": "code",
   "execution_count": 68,
   "metadata": {},
   "outputs": [
    {
     "name": "stderr",
     "output_type": "stream",
     "text": [
      "C:\\Users\\luciu\\Anaconda3\\envs\\crypto_env\\lib\\site-packages\\statsmodels\\compat\\pandas.py:56: FutureWarning: The pandas.core.datetools module is deprecated and will be removed in a future version. Please use the pandas.tseries module instead.\n",
      "  from pandas.core import datetools\n"
     ]
    }
   ],
   "source": [
    "# combine the data and test each feature column for stationarity using ADFuller tester with 1% conf.\n",
    "from statsmodels.tsa.stattools import adfuller\n",
    "\n",
    "df = hour_data11.append(hour_data22)\n",
    "df_p=pd.DataFrame(index=['p-value'],columns=df.columns)\n",
    "non_st=[]\n",
    "for col in df.columns:\n",
    "    df_p.loc['p-value',col]=adfuller(df[col].replace([np.inf, -np.inf], np.nan).dropna(),maxlag=1)[1]"
   ]
  },
  {
   "cell_type": "code",
   "execution_count": 103,
   "metadata": {},
   "outputs": [],
   "source": [
    "non_st = df_p[df_p>0.001]\n",
    "a=non_st.dropna(axis=1)\n",
    "non_stationary_features = list(a.columns)\n",
    "st = df_p[df_p<0.001]\n",
    "b=st.dropna(axis=1)\n",
    "stationary_features = list(b.columns)"
   ]
  },
  {
   "cell_type": "code",
   "execution_count": 104,
   "metadata": {},
   "outputs": [
    {
     "data": {
      "text/plain": [
       "['wavg',\n",
       " 'open',\n",
       " 'high',\n",
       " 'low',\n",
       " 'close',\n",
       " 'logopen',\n",
       " 'loghigh',\n",
       " 'loglow',\n",
       " 'logclose',\n",
       " 'logwavg',\n",
       " '200_1dclose',\n",
       " '500_1dclose',\n",
       " '200_1dwavg',\n",
       " '500_1dwavg',\n",
       " '200_2dclose',\n",
       " '500_2dclose',\n",
       " '200_2dwavg',\n",
       " '500_2dwavg',\n",
       " 'sma5',\n",
       " 'smah5',\n",
       " 'smal5',\n",
       " 'sma10',\n",
       " 'smah10',\n",
       " 'smal10',\n",
       " 'sma20',\n",
       " 'smah20',\n",
       " 'smal20',\n",
       " 'sma50',\n",
       " 'smah50',\n",
       " 'smal50',\n",
       " 'sma100',\n",
       " 'smah100',\n",
       " 'smal100',\n",
       " 'sma200',\n",
       " 'smah200',\n",
       " 'smal200',\n",
       " 'sma500',\n",
       " 'smah500',\n",
       " 'smal500',\n",
       " 'sma2400',\n",
       " 'smah2400',\n",
       " 'smal2400',\n",
       " 'logsma5',\n",
       " 'logsmah5',\n",
       " 'logsmal5',\n",
       " 'logsma10',\n",
       " 'logsmah10',\n",
       " 'logsmal10',\n",
       " 'logsma20',\n",
       " 'logsmah20',\n",
       " 'logsmal20',\n",
       " 'logsma50',\n",
       " 'logsmah50',\n",
       " 'logsmal50',\n",
       " 'logsma100',\n",
       " 'logsmah100',\n",
       " 'logsmal100',\n",
       " 'logsma200',\n",
       " 'logsmah200',\n",
       " 'logsmal200',\n",
       " 'logsma500',\n",
       " 'logsmah500',\n",
       " 'logsmal500',\n",
       " 'logsma2400',\n",
       " 'logsmah2400',\n",
       " 'logsmal2400',\n",
       " 'std50',\n",
       " 'std100',\n",
       " 'std200',\n",
       " 'std500',\n",
       " 'std1000',\n",
       " 'std2400',\n",
       " 'atr50',\n",
       " 'atr100',\n",
       " 'logatr50',\n",
       " 'logatr100',\n",
       " 'dvol',\n",
       " 'dvolh',\n",
       " 'dvoll',\n",
       " 'dvolwavg',\n",
       " 'cci500',\n",
       " 'cci1000',\n",
       " 'wr500',\n",
       " 'dma20-100',\n",
       " 'dma50-200',\n",
       " 'dma100-200',\n",
       " 'dma100-500',\n",
       " 'dma200-500',\n",
       " 'dma200-1000',\n",
       " 'dma500-1000',\n",
       " 'dma500-2400',\n",
       " 'dmah50-200',\n",
       " 'dmah100-200',\n",
       " 'dmah100-500',\n",
       " 'dmah200-500',\n",
       " 'dmah200-1000',\n",
       " 'dmah500-1000',\n",
       " 'dmah500-2400',\n",
       " 'dmal20-100',\n",
       " 'dmal50-200',\n",
       " 'dmal100-200',\n",
       " 'dmal100-500',\n",
       " 'dmal200-500',\n",
       " 'dmal200-1000',\n",
       " 'dmal500-1000',\n",
       " 'dmal500-2400',\n",
       " 'logdma20-100',\n",
       " 'logdma50-200',\n",
       " 'logdma100-200',\n",
       " 'logdma100-500',\n",
       " 'logdma200-500',\n",
       " 'logdma200-1000',\n",
       " 'logdma500-1000',\n",
       " 'logdma500-2400',\n",
       " 'logdmah50-200',\n",
       " 'logdmah100-200',\n",
       " 'logdmah100-500',\n",
       " 'logdmah200-500',\n",
       " 'logdmah200-1000',\n",
       " 'logdmah500-1000',\n",
       " 'logdmah500-2400',\n",
       " 'logdmal20-100',\n",
       " 'logdmal50-200',\n",
       " 'logdmal100-200',\n",
       " 'logdmal100-500',\n",
       " 'logdmal200-500',\n",
       " 'logdmal200-1000',\n",
       " 'logdmal500-1000',\n",
       " 'logdmal500-2400',\n",
       " 'lasthigh200',\n",
       " 'lasthigh500',\n",
       " 'lasthigh1000',\n",
       " 'lasthigh2400',\n",
       " 'lastlow200',\n",
       " 'lastlow500',\n",
       " 'lastlow1000',\n",
       " 'lastlow2400']"
      ]
     },
     "execution_count": 104,
     "metadata": {},
     "output_type": "execute_result"
    }
   ],
   "source": [
    "non_stationary_features"
   ]
  },
  {
   "cell_type": "code",
   "execution_count": 105,
   "metadata": {},
   "outputs": [],
   "source": [
    "df01 = pd.DataFrame(hour_data22)\n",
    "df01 = df01[non_stationary_features]\n",
    "df02 = pd.DataFrame(hour_data22)\n",
    "df02 = df02[non_stationary_features]"
   ]
  },
  {
   "cell_type": "code",
   "execution_count": 106,
   "metadata": {},
   "outputs": [],
   "source": [
    "out=pd.DataFrame(index=non_stationary_features,columns=[0.1, 0.2, 0.3, 0.4, 0.5, 0.6, 0.7, 0.8, 0.9, 1. ])\n",
    "\n",
    "for d in [0.1, 0.2, 0.3, 0.4, 0.5, 0.6, 0.7, 0.8, 0.9, 1. ]:\n",
    "    # fracdiff the series\n",
    "    df1= bf.fracDiff_FFD(df01,d,thres=0.01)\n",
    "    df2= bf.fracDiff_FFD(df02,d,thres=0.01)\n",
    "    df3 = df1.append(df2)\n",
    "    \n",
    "    for ft in non_stationary_features:\n",
    "        # perform adfuller test on each fracdiff-feature\n",
    "        adf=adfuller(df3[ft].replace([np.inf, -np.inf], np.nan).dropna(),maxlag=1,regression='c',autolag=None)\n",
    "        out.loc[ft][d]=adf[1] # p-value"
   ]
  },
  {
   "cell_type": "code",
   "execution_count": 108,
   "metadata": {},
   "outputs": [],
   "source": [
    "out.to_pickle('d_values_for_ADAEUR.pkl')"
   ]
  }
 ],
 "metadata": {
  "kernelspec": {
   "display_name": "crypto_env",
   "language": "python",
   "name": "crypto_env"
  },
  "language_info": {
   "codemirror_mode": {
    "name": "ipython",
    "version": 3
   },
   "file_extension": ".py",
   "mimetype": "text/x-python",
   "name": "python",
   "nbconvert_exporter": "python",
   "pygments_lexer": "ipython3",
   "version": "3.6.4"
  }
 },
 "nbformat": 4,
 "nbformat_minor": 2
}
