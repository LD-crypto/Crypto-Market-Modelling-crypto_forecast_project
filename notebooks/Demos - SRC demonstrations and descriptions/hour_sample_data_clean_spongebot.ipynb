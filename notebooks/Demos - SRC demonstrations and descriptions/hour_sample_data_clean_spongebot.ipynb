{
 "cells": [
  {
   "cell_type": "code",
   "execution_count": 28,
   "metadata": {},
   "outputs": [],
   "source": [
    "import numpy as np\n",
    "import pandas as pd\n",
    "import matplotlib.pyplot as plt\n",
    "import os\n",
    "from src.data import build_dataset as bd\n",
    "from src.features import mass_features as mf\n",
    "from src.features import build_features as bf"
   ]
  },
  {
   "cell_type": "markdown",
   "metadata": {},
   "source": [
    "# Creating the Datasets\n",
    "This notebook will be used to construct the hour_sampled folder. Each raw dataset will be constructed then sampled into hour intervals and saved into the folder. The sampled data sets will be split afterward where necessary to be ready to be run through the feature_script.py program."
   ]
  },
  {
   "cell_type": "code",
   "execution_count": 42,
   "metadata": {},
   "outputs": [],
   "source": [
    "# for each of the raw data folders: construct the data then sample by hour and save into project data folder\n",
    "for markets in os.listdir(r'C:\\Users\\luciu\\cryptodata/'):\n",
    "    data = bd.constructRawData(r'C:\\Users\\luciu\\cryptodata/'+markets+'/')\n",
    "    hour_data = bd.sampleBars(data, method='time bars',interval='H')\n",
    "    if not os.path.exists(r'\\crypto_forecast\\data\\interim/hour_sampled/raw/'+markets):\n",
    "        os.makedirs(r'\\crypto_forecast\\data\\interim/hour_sampled/raw/'+markets)\n",
    "    hour_data.to_pickle(r'crypto_forecast\\data\\interim/hour_sampled/raw/'+markets+'/'+markets+'_sampled.pkl')"
   ]
  },
  {
   "cell_type": "markdown",
   "metadata": {},
   "source": [
    "The next step is to go and clean up the data by hand. Remove any errors or data points which are obviously unique to this exchange. If the are large gaps then the data set has to be split up and saved into seperate dataset files. The following code and work in this notebook will be performing these tasks."
   ]
  },
  {
   "cell_type": "code",
   "execution_count": null,
   "metadata": {},
   "outputs": [],
   "source": []
  }
 ],
 "metadata": {
  "kernelspec": {
   "display_name": "crypto_env",
   "language": "python",
   "name": "crypto_env"
  },
  "language_info": {
   "codemirror_mode": {
    "name": "ipython",
    "version": 3
   },
   "file_extension": ".py",
   "mimetype": "text/x-python",
   "name": "python",
   "nbconvert_exporter": "python",
   "pygments_lexer": "ipython3",
   "version": "3.6.4"
  }
 },
 "nbformat": 4,
 "nbformat_minor": 2
}
